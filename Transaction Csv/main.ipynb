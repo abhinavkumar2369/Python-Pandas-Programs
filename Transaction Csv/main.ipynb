{
 "cells": [
  {
   "cell_type": "code",
   "execution_count": 81,
   "id": "bac4d62d-5ee8-4abf-afb9-936380c2c832",
   "metadata": {
    "tags": []
   },
   "outputs": [],
   "source": [
    "import pandas as pd"
   ]
  },
  {
   "cell_type": "code",
   "execution_count": null,
   "id": "b45e76ff-cced-4fa3-90a7-2155e7766afc",
   "metadata": {},
   "outputs": [],
   "source": []
  },
  {
   "cell_type": "code",
   "execution_count": 79,
   "id": "33353bba-a758-4c79-9633-7b4377b63bb4",
   "metadata": {
    "tags": []
   },
   "outputs": [
    {
     "name": "stdout",
     "output_type": "stream",
     "text": [
      "    TransactionID           Name TransactionDate  Amount    Description\n",
      "0               1   Rahul Sharma      2024-07-01    1500      Groceries\n",
      "1               2    Priya Gupta      2024-07-02    2000    Electronics\n",
      "2               3     Ravi Kumar      2024-07-03     500         Travel\n",
      "3               4   Anjali Mehta      2024-07-04    3000       Shopping\n",
      "4               5     Amit Singh      2024-07-05    1000      Utilities\n",
      "5               6   Rahul Sharma      2024-07-06    1500      Groceries\n",
      "6               7     Neha Verma      2024-07-07    2500        Medical\n",
      "7               8  Siddharth Rao      2024-07-08    1200      Education\n",
      "8               9    Priya Gupta      2024-07-02    2000    Electronics\n",
      "9              10     Ravi Kumar      2024-07-09     800  Entertainment\n",
      "10             11   Anjali Mehta      2024-07-04    3000       Shopping\n",
      "11             12     Amit Singh      2024-07-10     500      Transport\n",
      "12             13     Neha Verma      2024-07-11    1500      Groceries\n",
      "13             14  Siddharth Rao      2024-07-12    2200      Insurance\n",
      "14             15   Rahul Sharma      2024-07-13    1500      Groceries\n",
      "15             16    Priya Gupta      2024-07-14    3500      Furniture\n",
      "16             17     Ravi Kumar      2024-07-03     500         Travel\n",
      "17             18   Anjali Mehta      2024-07-15    3000       Shopping\n",
      "18             19     Amit Singh      2024-07-16    2000    Electronics\n",
      "19             20     Neha Verma      2024-07-17    3000       Shopping\n"
     ]
    }
   ],
   "source": [
    "# Already return the data frame\n",
    "df = pd.read_csv(\"data.csv\")\n",
    "print(df)"
   ]
  },
  {
   "cell_type": "code",
   "execution_count": null,
   "id": "75f0f737-4f73-412b-b6a6-eb2339c2c827",
   "metadata": {},
   "outputs": [],
   "source": []
  },
  {
   "cell_type": "code",
   "execution_count": 21,
   "id": "21f6b5f6-3068-4459-96d0-b274708d6b11",
   "metadata": {
    "tags": []
   },
   "outputs": [
    {
     "name": "stdout",
     "output_type": "stream",
     "text": [
      "    TransactionID           Name TransactionDate  Amount    Description\n",
      "0               1   Rahul Sharma      2024-07-01    1500      Groceries\n",
      "1               2    Priya Gupta      2024-07-02    2000    Electronics\n",
      "2               3     Ravi Kumar      2024-07-03     500         Travel\n",
      "3               4   Anjali Mehta      2024-07-04    3000       Shopping\n",
      "4               5     Amit Singh      2024-07-05    1000      Utilities\n",
      "5               6   Rahul Sharma      2024-07-06    1500      Groceries\n",
      "6               7     Neha Verma      2024-07-07    2500        Medical\n",
      "7               8  Siddharth Rao      2024-07-08    1200      Education\n",
      "8               9    Priya Gupta      2024-07-02    2000    Electronics\n",
      "9              10     Ravi Kumar      2024-07-09     800  Entertainment\n",
      "10             11   Anjali Mehta      2024-07-04    3000       Shopping\n",
      "11             12     Amit Singh      2024-07-10     500      Transport\n",
      "12             13     Neha Verma      2024-07-11    1500      Groceries\n",
      "13             14  Siddharth Rao      2024-07-12    2200      Insurance\n",
      "14             15   Rahul Sharma      2024-07-13    1500      Groceries\n",
      "15             16    Priya Gupta      2024-07-14    3500      Furniture\n",
      "16             17     Ravi Kumar      2024-07-03     500         Travel\n",
      "17             18   Anjali Mehta      2024-07-15    3000       Shopping\n",
      "18             19     Amit Singh      2024-07-16    2000    Electronics\n",
      "19             20     Neha Verma      2024-07-17    3000       Shopping\n"
     ]
    }
   ],
   "source": [
    "# ------------------------- Will not raise an Error --------------------------\n",
    "data  = pd.DataFrame(df)\n",
    "print(data)"
   ]
  },
  {
   "cell_type": "code",
   "execution_count": null,
   "id": "9b47ad2e-ac67-4852-a73f-61a382bd0dcb",
   "metadata": {},
   "outputs": [],
   "source": []
  },
  {
   "cell_type": "code",
   "execution_count": 83,
   "id": "b5757a89-497c-487d-a74a-9e363bda9dfa",
   "metadata": {
    "tags": []
   },
   "outputs": [
    {
     "name": "stdout",
     "output_type": "stream",
     "text": [
      "<class 'pandas.core.frame.DataFrame'>\n",
      "RangeIndex: 20 entries, 0 to 19\n",
      "Data columns (total 5 columns):\n",
      " #   Column           Non-Null Count  Dtype \n",
      "---  ------           --------------  ----- \n",
      " 0   TransactionID    20 non-null     int64 \n",
      " 1   Name             20 non-null     object\n",
      " 2   TransactionDate  20 non-null     object\n",
      " 3   Amount           20 non-null     int64 \n",
      " 4   Description      20 non-null     object\n",
      "dtypes: int64(2), object(3)\n",
      "memory usage: 932.0+ bytes\n"
     ]
    }
   ],
   "source": [
    "# ----------------------- Meta Data of DataSet ------------------------\n",
    "data.info()"
   ]
  },
  {
   "cell_type": "code",
   "execution_count": null,
   "id": "7810e51c-b195-46ad-907f-5f9b535b41e2",
   "metadata": {},
   "outputs": [],
   "source": []
  },
  {
   "cell_type": "code",
   "execution_count": 85,
   "id": "11c0bad8-cfa1-4120-a001-3edaa5314ee1",
   "metadata": {
    "tags": []
   },
   "outputs": [
    {
     "data": {
      "text/html": [
       "<div>\n",
       "<style scoped>\n",
       "    .dataframe tbody tr th:only-of-type {\n",
       "        vertical-align: middle;\n",
       "    }\n",
       "\n",
       "    .dataframe tbody tr th {\n",
       "        vertical-align: top;\n",
       "    }\n",
       "\n",
       "    .dataframe thead th {\n",
       "        text-align: right;\n",
       "    }\n",
       "</style>\n",
       "<table border=\"1\" class=\"dataframe\">\n",
       "  <thead>\n",
       "    <tr style=\"text-align: right;\">\n",
       "      <th></th>\n",
       "      <th>TransactionID</th>\n",
       "      <th>Amount</th>\n",
       "    </tr>\n",
       "  </thead>\n",
       "  <tbody>\n",
       "    <tr>\n",
       "      <th>count</th>\n",
       "      <td>20.00000</td>\n",
       "      <td>20.000000</td>\n",
       "    </tr>\n",
       "    <tr>\n",
       "      <th>mean</th>\n",
       "      <td>10.50000</td>\n",
       "      <td>1835.000000</td>\n",
       "    </tr>\n",
       "    <tr>\n",
       "      <th>std</th>\n",
       "      <td>5.91608</td>\n",
       "      <td>941.038061</td>\n",
       "    </tr>\n",
       "    <tr>\n",
       "      <th>min</th>\n",
       "      <td>1.00000</td>\n",
       "      <td>500.000000</td>\n",
       "    </tr>\n",
       "    <tr>\n",
       "      <th>25%</th>\n",
       "      <td>5.75000</td>\n",
       "      <td>1150.000000</td>\n",
       "    </tr>\n",
       "    <tr>\n",
       "      <th>50%</th>\n",
       "      <td>10.50000</td>\n",
       "      <td>1750.000000</td>\n",
       "    </tr>\n",
       "    <tr>\n",
       "      <th>75%</th>\n",
       "      <td>15.25000</td>\n",
       "      <td>2625.000000</td>\n",
       "    </tr>\n",
       "    <tr>\n",
       "      <th>max</th>\n",
       "      <td>20.00000</td>\n",
       "      <td>3500.000000</td>\n",
       "    </tr>\n",
       "  </tbody>\n",
       "</table>\n",
       "</div>"
      ],
      "text/plain": [
       "       TransactionID       Amount\n",
       "count       20.00000    20.000000\n",
       "mean        10.50000  1835.000000\n",
       "std          5.91608   941.038061\n",
       "min          1.00000   500.000000\n",
       "25%          5.75000  1150.000000\n",
       "50%         10.50000  1750.000000\n",
       "75%         15.25000  2625.000000\n",
       "max         20.00000  3500.000000"
      ]
     },
     "execution_count": 85,
     "metadata": {},
     "output_type": "execute_result"
    }
   ],
   "source": [
    "# --------------------- Mathematical Statistical Description of the Data -----------------------------\n",
    "data.describe()"
   ]
  },
  {
   "cell_type": "code",
   "execution_count": null,
   "id": "1d430726-e437-4f5f-b70a-a1288cbbfc92",
   "metadata": {},
   "outputs": [],
   "source": []
  },
  {
   "cell_type": "code",
   "execution_count": 87,
   "id": "d88e0bfa-6de8-4f57-90d8-0c0eea2a734c",
   "metadata": {
    "tags": []
   },
   "outputs": [
    {
     "data": {
      "text/plain": [
       "0     False\n",
       "1     False\n",
       "2     False\n",
       "3     False\n",
       "4     False\n",
       "5     False\n",
       "6     False\n",
       "7     False\n",
       "8     False\n",
       "9     False\n",
       "10    False\n",
       "11    False\n",
       "12    False\n",
       "13    False\n",
       "14    False\n",
       "15    False\n",
       "16    False\n",
       "17    False\n",
       "18    False\n",
       "19    False\n",
       "dtype: bool"
      ]
     },
     "execution_count": 87,
     "metadata": {},
     "output_type": "execute_result"
    }
   ],
   "source": [
    "# ---------------- Chech for the duplicated row (entire row) ---------------------------\n",
    "data.duplicated()"
   ]
  },
  {
   "cell_type": "code",
   "execution_count": null,
   "id": "9302dc87-fe6e-4ab3-a4a8-85ea8575eb26",
   "metadata": {},
   "outputs": [],
   "source": []
  },
  {
   "cell_type": "code",
   "execution_count": 57,
   "id": "503d0d16-3914-4839-8574-cb1d1277995e",
   "metadata": {
    "tags": []
   },
   "outputs": [
    {
     "data": {
      "text/plain": [
       "0     False\n",
       "1     False\n",
       "2     False\n",
       "3     False\n",
       "4     False\n",
       "5      True\n",
       "6     False\n",
       "7     False\n",
       "8      True\n",
       "9     False\n",
       "10     True\n",
       "11    False\n",
       "12     True\n",
       "13    False\n",
       "14     True\n",
       "15    False\n",
       "16     True\n",
       "17     True\n",
       "18     True\n",
       "19     True\n",
       "Name: Description, dtype: bool"
      ]
     },
     "execution_count": 57,
     "metadata": {},
     "output_type": "execute_result"
    }
   ],
   "source": [
    "# ------------------- Check for duplicated data in [Description] Column ----------------\n",
    "data[\"Description\"].duplicated()"
   ]
  },
  {
   "cell_type": "code",
   "execution_count": null,
   "id": "5fb7de46-f8f6-4bb4-b39b-fc71cc9a1fac",
   "metadata": {},
   "outputs": [],
   "source": []
  },
  {
   "cell_type": "code",
   "execution_count": 64,
   "id": "a4d1ca1e-38ef-4140-ae51-58b48198f236",
   "metadata": {
    "tags": []
   },
   "outputs": [
    {
     "data": {
      "text/plain": [
       "9"
      ]
     },
     "execution_count": 64,
     "metadata": {},
     "output_type": "execute_result"
    }
   ],
   "source": [
    "# Total the total number of duplicate value in [Description] column\n",
    "data[\"Description\"].duplicated().sum()"
   ]
  },
  {
   "cell_type": "code",
   "execution_count": null,
   "id": "f949aec4-9a6e-4a75-b24f-e6684bc6b27b",
   "metadata": {},
   "outputs": [],
   "source": []
  },
  {
   "cell_type": "code",
   "execution_count": 67,
   "id": "ba5292d3-4d98-4207-afd7-177f3da10eeb",
   "metadata": {
    "tags": []
   },
   "outputs": [
    {
     "name": "stdout",
     "output_type": "stream",
     "text": [
      "   TransactionID          Name TransactionDate  Amount  Description\n",
      "0              1  Rahul Sharma      2024-07-01    1500    Groceries\n",
      "1              2   Priya Gupta      2024-07-02    2000  Electronics\n",
      "2              3    Ravi Kumar      2024-07-03     500       Travel\n",
      "3              4  Anjali Mehta      2024-07-04    3000     Shopping\n",
      "4              5    Amit Singh      2024-07-05    1000    Utilities\n"
     ]
    }
   ],
   "source": [
    "# Give top 5 element from beginning\n",
    "print(data.head())"
   ]
  },
  {
   "cell_type": "code",
   "execution_count": null,
   "id": "ab1431f6-5579-4ef6-a08f-79e85718b87c",
   "metadata": {},
   "outputs": [],
   "source": []
  },
  {
   "cell_type": "code",
   "execution_count": 70,
   "id": "1de837ce-84a1-4711-8ccf-6cc47536ac48",
   "metadata": {
    "tags": []
   },
   "outputs": [
    {
     "name": "stdout",
     "output_type": "stream",
     "text": [
      "    TransactionID          Name TransactionDate  Amount  Description\n",
      "15             16   Priya Gupta      2024-07-14    3500    Furniture\n",
      "16             17    Ravi Kumar      2024-07-03     500       Travel\n",
      "17             18  Anjali Mehta      2024-07-15    3000     Shopping\n",
      "18             19    Amit Singh      2024-07-16    2000  Electronics\n",
      "19             20    Neha Verma      2024-07-17    3000     Shopping\n"
     ]
    }
   ],
   "source": [
    "# Give last 5 element in the ending\n",
    "print(data.tail())"
   ]
  },
  {
   "cell_type": "code",
   "execution_count": null,
   "id": "3d3e6b68-61da-458f-bbb3-58016db51a8a",
   "metadata": {},
   "outputs": [],
   "source": []
  },
  {
   "cell_type": "code",
   "execution_count": 73,
   "id": "e7ac9e97-5daa-4b48-a72c-9f7e7f70cb13",
   "metadata": {
    "tags": []
   },
   "outputs": [
    {
     "name": "stdout",
     "output_type": "stream",
     "text": [
      "   TransactionID          Name TransactionDate  Amount  Description\n",
      "0              1  Rahul Sharma      2024-07-01    1500    Groceries\n",
      "1              2   Priya Gupta      2024-07-02    2000  Electronics\n",
      "2              3    Ravi Kumar      2024-07-03     500       Travel\n"
     ]
    }
   ],
   "source": [
    "# ----------------------- Give top 3 elements -------------------------\n",
    "print(data.head(3))"
   ]
  },
  {
   "cell_type": "code",
   "execution_count": null,
   "id": "cd4ecf79-863a-4ddc-993d-3def8b5396a4",
   "metadata": {},
   "outputs": [],
   "source": []
  },
  {
   "cell_type": "code",
   "execution_count": 76,
   "id": "dd9f66e5-555f-4c47-8143-9d91346e1eb9",
   "metadata": {
    "tags": []
   },
   "outputs": [
    {
     "name": "stdout",
     "output_type": "stream",
     "text": [
      "    TransactionID          Name TransactionDate  Amount  Description\n",
      "17             18  Anjali Mehta      2024-07-15    3000     Shopping\n",
      "18             19    Amit Singh      2024-07-16    2000  Electronics\n",
      "19             20    Neha Verma      2024-07-17    3000     Shopping\n"
     ]
    }
   ],
   "source": [
    "# ------------------------- Give last 3 elements -------------------------\n",
    "print(data.tail(3))"
   ]
  },
  {
   "cell_type": "code",
   "execution_count": null,
   "id": "996f1a8b-6dc8-4787-94f6-386056a4a59e",
   "metadata": {},
   "outputs": [],
   "source": []
  },
  {
   "cell_type": "code",
   "execution_count": 91,
   "id": "0f1ee051-2e46-4c73-9060-cb6d0e762c0c",
   "metadata": {
    "tags": []
   },
   "outputs": [
    {
     "name": "stdout",
     "output_type": "stream",
     "text": [
      "    TransactionID   Name  TransactionDate  Amount  Description\n",
      "0           False  False            False   False        False\n",
      "1           False  False            False   False        False\n",
      "2           False  False            False   False        False\n",
      "3           False  False            False   False        False\n",
      "4           False  False            False   False        False\n",
      "5           False  False            False   False        False\n",
      "6           False  False            False   False        False\n",
      "7           False  False            False   False        False\n",
      "8           False  False            False   False        False\n",
      "9           False  False            False   False        False\n",
      "10          False  False            False   False        False\n",
      "11          False  False            False   False        False\n",
      "12          False  False            False   False        False\n",
      "13          False  False            False   False        False\n",
      "14          False  False            False   False        False\n",
      "15          False  False            False   False        False\n",
      "16          False  False            False   False        False\n",
      "17          False  False            False   False        False\n",
      "18          False  False            False   False        False\n",
      "19          False  False            False   False        False\n"
     ]
    }
   ],
   "source": [
    "# print isNull\n",
    "print(data.isnull())"
   ]
  },
  {
   "cell_type": "code",
   "execution_count": null,
   "id": "af1b3735-3422-4377-a3f2-d210bfd35d89",
   "metadata": {},
   "outputs": [],
   "source": []
  },
  {
   "cell_type": "code",
   "execution_count": 98,
   "id": "d9a8f53b-631e-48b8-a661-b42fbb0d2ce0",
   "metadata": {
    "tags": []
   },
   "outputs": [
    {
     "name": "stdout",
     "output_type": "stream",
     "text": [
      "TransactionID      0\n",
      "Name               0\n",
      "TransactionDate    0\n",
      "Amount             0\n",
      "Description        0\n",
      "dtype: int64\n"
     ]
    }
   ],
   "source": [
    "print(data.isnull().sum())"
   ]
  },
  {
   "cell_type": "code",
   "execution_count": null,
   "id": "53a5fdf2-0e6c-43a2-b04d-11dbcf2e655b",
   "metadata": {},
   "outputs": [],
   "source": []
  },
  {
   "cell_type": "code",
   "execution_count": 109,
   "id": "250b3786-7484-4936-a859-f885c8c6114a",
   "metadata": {
    "tags": []
   },
   "outputs": [
    {
     "name": "stdout",
     "output_type": "stream",
     "text": [
      "1835.0\n"
     ]
    }
   ],
   "source": [
    "print(data[\"Amount\"].mean())"
   ]
  },
  {
   "cell_type": "code",
   "execution_count": null,
   "id": "af5c6092-2a97-4f9a-a5ee-d9404e2003a0",
   "metadata": {},
   "outputs": [],
   "source": []
  },
  {
   "cell_type": "code",
   "execution_count": null,
   "id": "733d72d2-9184-4259-8fe7-af05f7872abd",
   "metadata": {},
   "outputs": [],
   "source": []
  }
 ],
 "metadata": {
  "kernelspec": {
   "display_name": "Python 3 (ipykernel)",
   "language": "python",
   "name": "python3"
  },
  "language_info": {
   "codemirror_mode": {
    "name": "ipython",
    "version": 3
   },
   "file_extension": ".py",
   "mimetype": "text/x-python",
   "name": "python",
   "nbconvert_exporter": "python",
   "pygments_lexer": "ipython3",
   "version": "3.11.5"
  }
 },
 "nbformat": 4,
 "nbformat_minor": 5
}
