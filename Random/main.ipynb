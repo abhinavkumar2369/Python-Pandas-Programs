{
 "cells": [
  {
   "cell_type": "code",
   "execution_count": 1,
   "id": "55257655-86c5-4214-a94a-caf658c01785",
   "metadata": {},
   "outputs": [],
   "source": [
    "import numpy as np\n",
    "import pandas as pd"
   ]
  },
  {
   "cell_type": "code",
   "execution_count": null,
   "id": "b013bd29-eea0-4dcf-8007-0a60f2c3d308",
   "metadata": {},
   "outputs": [],
   "source": []
  },
  {
   "cell_type": "code",
   "execution_count": null,
   "id": "333cece0-022b-44be-a388-aef4563f263d",
   "metadata": {},
   "outputs": [],
   "source": [
    "# Initializing Data "
   ]
  },
  {
   "cell_type": "code",
   "execution_count": 6,
   "id": "c3031a56-9a48-4e0e-9e7d-5bab7fd4d14c",
   "metadata": {},
   "outputs": [],
   "source": [
    "random_data = {\"Name\":[\"Abhinav\",\"Abhishek\",\"Agasthya\",\"Aryan\"],\n",
    "              \"Branch\" : [\"CSE AIML\",\"CSE\",\"ME\",\"CE\"],\n",
    "              \"Roll No\":[1,2,3,3]}"
   ]
  },
  {
   "cell_type": "code",
   "execution_count": null,
   "id": "4183e82f-19fb-436e-bf56-02545a60f841",
   "metadata": {},
   "outputs": [],
   "source": []
  },
  {
   "cell_type": "code",
   "execution_count": null,
   "id": "026b1f64-7638-400a-8021-e36ac72387c1",
   "metadata": {},
   "outputs": [],
   "source": [
    "# Converting into DataFrame"
   ]
  },
  {
   "cell_type": "code",
   "execution_count": 7,
   "id": "001bc64a-5a12-4bb0-8b23-6f767ac85cac",
   "metadata": {},
   "outputs": [],
   "source": [
    "data = pd.DataFrame(random_data)"
   ]
  },
  {
   "cell_type": "code",
   "execution_count": 8,
   "id": "f71b263a-1a0b-4d51-8287-2b64760a4e39",
   "metadata": {},
   "outputs": [
    {
     "name": "stdout",
     "output_type": "stream",
     "text": [
      "       Name    Branch  Roll No\n",
      "0   Abhinav  CSE AIML        1\n",
      "1  Abhishek       CSE        2\n",
      "2  Agasthya        ME        3\n",
      "3     Aryan        CE        3\n"
     ]
    }
   ],
   "source": [
    "print(data)"
   ]
  },
  {
   "cell_type": "code",
   "execution_count": null,
   "id": "aef0284a-cb53-4719-8cca-a7b788a6a59d",
   "metadata": {},
   "outputs": [],
   "source": []
  },
  {
   "cell_type": "code",
   "execution_count": null,
   "id": "eb19764c-d910-4212-9e93-8f37d1a6209e",
   "metadata": {},
   "outputs": [],
   "source": []
  },
  {
   "cell_type": "code",
   "execution_count": null,
   "id": "db071b58-7eb6-4878-8a3c-9671128c6238",
   "metadata": {},
   "outputs": [],
   "source": [
    "# ----------------------- Data Info --------------------------"
   ]
  },
  {
   "cell_type": "code",
   "execution_count": 9,
   "id": "d7f339a2-1b91-4ae4-9421-bfab75340a95",
   "metadata": {},
   "outputs": [
    {
     "name": "stdout",
     "output_type": "stream",
     "text": [
      "<class 'pandas.core.frame.DataFrame'>\n",
      "RangeIndex: 4 entries, 0 to 3\n",
      "Data columns (total 3 columns):\n",
      " #   Column   Non-Null Count  Dtype \n",
      "---  ------   --------------  ----- \n",
      " 0   Name     4 non-null      object\n",
      " 1   Branch   4 non-null      object\n",
      " 2   Roll No  4 non-null      int64 \n",
      "dtypes: int64(1), object(2)\n",
      "memory usage: 224.0+ bytes\n",
      "None\n"
     ]
    }
   ],
   "source": [
    "print(data.info())"
   ]
  },
  {
   "cell_type": "code",
   "execution_count": null,
   "id": "55b3e286-2224-4b15-8cec-e244126e905d",
   "metadata": {},
   "outputs": [],
   "source": []
  },
  {
   "cell_type": "code",
   "execution_count": null,
   "id": "8b9c6fd1-78d0-4efc-b5aa-6b65fb0af19a",
   "metadata": {},
   "outputs": [],
   "source": []
  },
  {
   "cell_type": "code",
   "execution_count": null,
   "id": "6b0894cb-7412-4143-9713-92fa43545cb1",
   "metadata": {},
   "outputs": [],
   "source": [
    "# ---------------------- Data Describing -----------------------"
   ]
  },
  {
   "cell_type": "code",
   "execution_count": 10,
   "id": "b7e80b75-9387-4867-8cd4-e3620659bfaf",
   "metadata": {},
   "outputs": [
    {
     "name": "stdout",
     "output_type": "stream",
     "text": [
      "        Roll No\n",
      "count  4.000000\n",
      "mean   2.250000\n",
      "std    0.957427\n",
      "min    1.000000\n",
      "25%    1.750000\n",
      "50%    2.500000\n",
      "75%    3.000000\n",
      "max    3.000000\n"
     ]
    }
   ],
   "source": [
    "print(data.describe())"
   ]
  },
  {
   "cell_type": "code",
   "execution_count": null,
   "id": "d11bc9fc-2cb8-46c9-858d-f80690830342",
   "metadata": {},
   "outputs": [],
   "source": []
  },
  {
   "cell_type": "code",
   "execution_count": null,
   "id": "6876d0ab-dfda-4e31-8245-17999374d4be",
   "metadata": {},
   "outputs": [],
   "source": []
  },
  {
   "cell_type": "code",
   "execution_count": null,
   "id": "77be73e9-0c82-4ad8-9b43-5c5d1d9932a5",
   "metadata": {},
   "outputs": [],
   "source": [
    "# Checks whether the entire row is manipulated "
   ]
  },
  {
   "cell_type": "code",
   "execution_count": 11,
   "id": "0acefdd0-ef30-4abb-8bf5-5e982e7c26b1",
   "metadata": {},
   "outputs": [
    {
     "name": "stdout",
     "output_type": "stream",
     "text": [
      "0    False\n",
      "1    False\n",
      "2    False\n",
      "3    False\n",
      "dtype: bool\n"
     ]
    }
   ],
   "source": [
    "print(data.duplicated())"
   ]
  },
  {
   "cell_type": "code",
   "execution_count": null,
   "id": "c5c8b361-bbfe-416d-a908-113dca3a652b",
   "metadata": {},
   "outputs": [],
   "source": []
  },
  {
   "cell_type": "code",
   "execution_count": null,
   "id": "8e81ec54-9019-4b4e-9f72-962e9029c933",
   "metadata": {},
   "outputs": [],
   "source": []
  },
  {
   "cell_type": "code",
   "execution_count": null,
   "id": "42f20a6b-d1dc-4a67-8d83-40bd2211117b",
   "metadata": {},
   "outputs": [],
   "source": [
    "# Check for the specific column"
   ]
  },
  {
   "cell_type": "code",
   "execution_count": 12,
   "id": "c3456f2a-ec35-45e4-ae6b-e8151c5eb288",
   "metadata": {},
   "outputs": [
    {
     "name": "stdout",
     "output_type": "stream",
     "text": [
      "0    False\n",
      "1    False\n",
      "2    False\n",
      "3     True\n",
      "Name: Roll No, dtype: bool\n"
     ]
    }
   ],
   "source": [
    "print(data[\"Roll No\"].duplicated())"
   ]
  },
  {
   "cell_type": "code",
   "execution_count": null,
   "id": "012fdcd8-68a8-4ab3-bee0-81d6f96b612a",
   "metadata": {},
   "outputs": [],
   "source": []
  },
  {
   "cell_type": "code",
   "execution_count": null,
   "id": "7542c0a1-5b02-4c09-8b52-74c154d33ceb",
   "metadata": {},
   "outputs": [],
   "source": []
  },
  {
   "cell_type": "code",
   "execution_count": null,
   "id": "a28f86b6-b155-4de9-b175-547bfeda3d4e",
   "metadata": {},
   "outputs": [],
   "source": [
    "# Will the the total count of the duplicated value "
   ]
  },
  {
   "cell_type": "code",
   "execution_count": 13,
   "id": "0b089ca2-5f62-4c4a-8420-8e21ce32a8a0",
   "metadata": {},
   "outputs": [
    {
     "name": "stdout",
     "output_type": "stream",
     "text": [
      "1\n"
     ]
    }
   ],
   "source": [
    "print(data[\"Roll No\"].duplicated().sum())"
   ]
  },
  {
   "cell_type": "code",
   "execution_count": null,
   "id": "7a5641a5-f61a-4129-9686-f1c5c579a151",
   "metadata": {},
   "outputs": [],
   "source": []
  },
  {
   "cell_type": "code",
   "execution_count": null,
   "id": "1c41d98d-430e-4ce7-88d3-44709e545253",
   "metadata": {},
   "outputs": [],
   "source": [
    "# No change in the data "
   ]
  },
  {
   "cell_type": "code",
   "execution_count": 14,
   "id": "10503168-dc9a-49e5-893c-e070e7c780ca",
   "metadata": {},
   "outputs": [
    {
     "name": "stdout",
     "output_type": "stream",
     "text": [
      "       Name    Branch  Roll No\n",
      "0   Abhinav  CSE AIML        1\n",
      "1  Abhishek       CSE        2\n",
      "2  Agasthya        ME        3\n",
      "3     Aryan        CE        3\n"
     ]
    }
   ],
   "source": [
    "print(data)"
   ]
  },
  {
   "cell_type": "code",
   "execution_count": null,
   "id": "cd9f2a59-adb4-4d63-8e40-fc5ac03af49a",
   "metadata": {},
   "outputs": [],
   "source": []
  },
  {
   "cell_type": "code",
   "execution_count": null,
   "id": "7fb87698-b2f1-4d13-950a-9cf7b3a11203",
   "metadata": {},
   "outputs": [],
   "source": []
  },
  {
   "cell_type": "code",
   "execution_count": null,
   "id": "8d785565-4316-4227-9f5a-ce233998b8f1",
   "metadata": {},
   "outputs": [],
   "source": [
    "# -------------- Removing Duplicate values from Roll No Column ----------------"
   ]
  },
  {
   "cell_type": "code",
   "execution_count": 16,
   "id": "5eff3e4d-4ab2-44b5-9e37-749c1d0487dc",
   "metadata": {},
   "outputs": [
    {
     "data": {
      "text/html": [
       "<div>\n",
       "<style scoped>\n",
       "    .dataframe tbody tr th:only-of-type {\n",
       "        vertical-align: middle;\n",
       "    }\n",
       "\n",
       "    .dataframe tbody tr th {\n",
       "        vertical-align: top;\n",
       "    }\n",
       "\n",
       "    .dataframe thead th {\n",
       "        text-align: right;\n",
       "    }\n",
       "</style>\n",
       "<table border=\"1\" class=\"dataframe\">\n",
       "  <thead>\n",
       "    <tr style=\"text-align: right;\">\n",
       "      <th></th>\n",
       "      <th>Name</th>\n",
       "      <th>Branch</th>\n",
       "      <th>Roll No</th>\n",
       "    </tr>\n",
       "  </thead>\n",
       "  <tbody>\n",
       "    <tr>\n",
       "      <th>0</th>\n",
       "      <td>Abhinav</td>\n",
       "      <td>CSE AIML</td>\n",
       "      <td>1</td>\n",
       "    </tr>\n",
       "    <tr>\n",
       "      <th>1</th>\n",
       "      <td>Abhishek</td>\n",
       "      <td>CSE</td>\n",
       "      <td>2</td>\n",
       "    </tr>\n",
       "    <tr>\n",
       "      <th>2</th>\n",
       "      <td>Agasthya</td>\n",
       "      <td>ME</td>\n",
       "      <td>3</td>\n",
       "    </tr>\n",
       "  </tbody>\n",
       "</table>\n",
       "</div>"
      ],
      "text/plain": [
       "       Name    Branch  Roll No\n",
       "0   Abhinav  CSE AIML        1\n",
       "1  Abhishek       CSE        2\n",
       "2  Agasthya        ME        3"
      ]
     },
     "execution_count": 16,
     "metadata": {},
     "output_type": "execute_result"
    }
   ],
   "source": [
    "data.drop_duplicates(\"Roll No\")"
   ]
  },
  {
   "cell_type": "code",
   "execution_count": null,
   "id": "69d48549-9f1c-42ee-9405-8a9fdd92960e",
   "metadata": {},
   "outputs": [],
   "source": []
  },
  {
   "cell_type": "code",
   "execution_count": null,
   "id": "4a30dd8d-94ea-4a50-8b72-660896add33b",
   "metadata": {},
   "outputs": [],
   "source": []
  },
  {
   "cell_type": "code",
   "execution_count": 18,
   "id": "dc055c4f-0d1d-4530-b0f7-d5ea038ab163",
   "metadata": {},
   "outputs": [],
   "source": [
    "# -------------- Printing Data Value ---------------------------"
   ]
  },
  {
   "cell_type": "code",
   "execution_count": null,
   "id": "f937f5cb-e80e-4c13-b1d6-8e14af250f2a",
   "metadata": {},
   "outputs": [],
   "source": [
    "# No change in the original data"
   ]
  },
  {
   "cell_type": "code",
   "execution_count": 17,
   "id": "30bb959f-90bc-454a-a06f-a010e8c7732a",
   "metadata": {},
   "outputs": [
    {
     "name": "stdout",
     "output_type": "stream",
     "text": [
      "       Name    Branch  Roll No\n",
      "0   Abhinav  CSE AIML        1\n",
      "1  Abhishek       CSE        2\n",
      "2  Agasthya        ME        3\n",
      "3     Aryan        CE        3\n"
     ]
    }
   ],
   "source": [
    "print(data)"
   ]
  }
 ],
 "metadata": {
  "kernelspec": {
   "display_name": "Python 3 (ipykernel)",
   "language": "python",
   "name": "python3"
  },
  "language_info": {
   "codemirror_mode": {
    "name": "ipython",
    "version": 3
   },
   "file_extension": ".py",
   "mimetype": "text/x-python",
   "name": "python",
   "nbconvert_exporter": "python",
   "pygments_lexer": "ipython3",
   "version": "3.10.13"
  }
 },
 "nbformat": 4,
 "nbformat_minor": 5
}
